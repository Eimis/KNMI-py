{
 "cells": [
  {
   "cell_type": "code",
   "execution_count": 1,
   "metadata": {
    "collapsed": true
   },
   "outputs": [],
   "source": [
    "import knmi"
   ]
  },
  {
   "cell_type": "code",
   "execution_count": null,
   "metadata": {
    "collapsed": true
   },
   "outputs": [],
   "source": [
    "import pandas as pd"
   ]
  },
  {
   "cell_type": "code",
   "execution_count": 2,
   "metadata": {
    "collapsed": false,
    "scrolled": false
   },
   "outputs": [],
   "source": [
    "df = knmi.get_day_data_dataframe(stations=[260], variables=['ALL'])"
   ]
  },
  {
   "cell_type": "code",
   "execution_count": 3,
   "metadata": {
    "collapsed": false,
    "scrolled": false
   },
   "outputs": [
    {
     "name": "stdout",
     "output_type": "stream",
     "text": [
      "BRON: KONINKLIJK NEDERLANDS METEOROLOGISCH INSTITUUT (KNMI)\n",
      "Opmerking: door stationsverplaatsingen en veranderingen in waarneemmethodieken zijn deze tijdreeksen van dagwaarden mogelijk inhomogeen! Dat betekent dat deze reeks van gemeten waarden niet geschikt is voor trendanalyse. Voor studies naar klimaatverandering verwijzen we naar de gehomogeniseerde reeks maandtemperaturen van De Bilt <http://www.knmi.nl/kennis-en-datacentrum/achtergrond/gehomogeniseerde-reeks-maandtemperaturen-de-bilt> of de Centraal Nederland Temperatuur <http://www.knmi.nl/kennis-en-datacentrum/achtergrond/centraal-nederland-temperatuur-cnt>.\n"
     ]
    }
   ],
   "source": [
    "print(df.disclaimer)"
   ]
  },
  {
   "cell_type": "code",
   "execution_count": 4,
   "metadata": {
    "collapsed": false
   },
   "outputs": [
    {
     "data": {
      "text/plain": [
       "{8: Station(number=8, longitude=5.528, latitude=52.453, altitude=-4.2, name='LELYSTAD'),\n",
       " 13: Station(number=13, longitude=3.314, latitude=47.975, altitude=999.9, name='WISSEKERKE ???'),\n",
       " 16: Station(number=16, longitude=3.314, latitude=47.975, altitude=999.9, name='HEINKENSZAND ???'),\n",
       " 17: Station(number=17, longitude=3.892, latitude=51.529, altitude=0.7, name='WILHELMINADORP'),\n",
       " 18: Station(number=18, longitude=3.314, latitude=47.975, altitude=999.9, name='PHILIPPINE ???'),\n",
       " 19: Station(number=19, longitude=3.314, latitude=47.975, altitude=999.9, name='NIEUWE TONGE ???'),\n",
       " 20: Station(number=20, longitude=6.7, latitude=51.969, altitude=34.1, name='WINTERSWIJK'),\n",
       " 28: Station(number=28, longitude=5.82, latitude=52.961, altitude=-0.4, name='JOURE'),\n",
       " 29: Station(number=29, longitude=5.044, latitude=52.65, altitude=999.9, name='HOORN (NH)'),\n",
       " 32: Station(number=32, longitude=4.526, latitude=51.576, altitude=1.2, name='OUDENBOSCH'),\n",
       " 33: Station(number=33, longitude=5.677, latitude=51.549, altitude=13.2, name='GEMERT'),\n",
       " 34: Station(number=34, longitude=6.887, latitude=52.785, altitude=24.1, name='EMMEN'),\n",
       " 35: Station(number=35, longitude=3.314, latitude=47.975, altitude=999.9, name='HAAMSTEDE ???'),\n",
       " 36: Station(number=36, longitude=3.314, latitude=47.975, altitude=999.9, name='NUMANSDORP ???'),\n",
       " 37: Station(number=37, longitude=5.675, latitude=51.976, altitude=2.0, name='WAGENINGEN (HAARWEG)'),\n",
       " 38: Station(number=38, longitude=3.314, latitude=47.975, altitude=999.9, name='NAALDWIJK ???'),\n",
       " 39: Station(number=39, longitude=4.156, latitude=51.988, altitude=999.9, name='H. VAN HOLLAND(MOLENPAD)'),\n",
       " 40: Station(number=40, longitude=5.837, latitude=51.856, altitude=999.9, name='NIJMEGEN (RADBOUD)'),\n",
       " 41: Station(number=41, longitude=5.526, latitude=52.458, altitude=-4.0, name='LELYSTAD'),\n",
       " 108: Station(number=108, longitude=3.314, latitude=47.975, altitude=999.9, name='HELLEVOETSLUIS ???'),\n",
       " 122: Station(number=122, longitude=6.303, latitude=52.158, altitude=9.0, name='ALMEN'),\n",
       " 125: Station(number=125, longitude=5.054, latitude=51.784, altitude=1.4, name='ANDEL'),\n",
       " 126: Station(number=126, longitude=4.079, latitude=51.596, altitude=1.0, name='ST ANNALAND'),\n",
       " 127: Station(number=127, longitude=3.314, latitude=47.975, altitude=999.9, name='BUCHTEN ???'),\n",
       " 128: Station(number=128, longitude=6.443, latitude=52.593, altitude=6.0, name='DEDEMSVAART'),\n",
       " 129: Station(number=129, longitude=5.78, latitude=52.712, altitude=-3.7, name='EMMELOORD'),\n",
       " 130: Station(number=130, longitude=3.314, latitude=47.975, altitude=999.9, name='EPEN ???'),\n",
       " 133: Station(number=133, longitude=5.342, latitude=53.398, altitude=-1.0, name='HOORN (TERSCHELLING)'),\n",
       " 135: Station(number=135, longitude=5.338, latitude=53.07, altitude=3.0, name='KORNWERDERZAND'),\n",
       " 138: Station(number=138, longitude=5.676, latitude=50.843, altitude=999.9, name='MAASTRICHT'),\n",
       " 139: Station(number=139, longitude=5.121, latitude=52.458, altitude=-0.8, name='MARKEN'),\n",
       " 142: Station(number=142, longitude=3.314, latitude=47.975, altitude=999.9, name='OUDE WETERING ???'),\n",
       " 143: Station(number=143, longitude=4.393, latitude=51.855, altitude=0.2, name='POORTUGAAL'),\n",
       " 147: Station(number=147, longitude=5.611, latitude=52.658, altitude=999.9, name='URK'),\n",
       " 148: Station(number=148, longitude=6.191, latitude=51.356, altitude=30.0, name='VENLO'),\n",
       " 152: Station(number=152, longitude=3.558, latitude=51.356, altitude=1.2, name='SCHOONDIJKE'),\n",
       " 153: Station(number=153, longitude=5.356, latitude=52.886, altitude=2.6, name='STAVOREN'),\n",
       " 158: Station(number=158, longitude=3.314, latitude=47.975, altitude=999.9, name='SPIJK (GR.) ???'),\n",
       " 159: Station(number=159, longitude=4.057, latitude=51.251, altitude=2.4, name='KAPELLEBRUG'),\n",
       " 161: Station(number=161, longitude=5.975, latitude=53.391, altitude=999.9, name='TERNAARD'),\n",
       " 162: Station(number=162, longitude=5.222, latitude=52.418, altitude=999.9, name='OOSTVAARDERSDIEP'),\n",
       " 163: Station(number=163, longitude=5.476, latitude=52.263, altitude=0.2, name='NIJKERK (SLUIS)'),\n",
       " 164: Station(number=164, longitude=5.909, latitude=51.092, altitude=34.1, name='ECHT'),\n",
       " 165: Station(number=165, longitude=3.314, latitude=47.975, altitude=999.9, name='KAAP HOOFD ???'),\n",
       " 166: Station(number=166, longitude=6.238, latitude=53.583, altitude=4.0, name='SCHIERMONNIKOOG'),\n",
       " 167: Station(number=167, longitude=6.85, latitude=53.381, altitude=999.9, name='BIERUM'),\n",
       " 168: Station(number=168, longitude=5.906, latitude=50.764, altitude=155.0, name='EPEN'),\n",
       " 169: Station(number=169, longitude=5.304, latitude=53.392, altitude=0.4, name='FORMERUM'),\n",
       " 170: Station(number=170, longitude=5.715, latitude=50.794, altitude=50.0, name='OOST MAARLAND'),\n",
       " 200: Station(number=200, longitude=4.355, latitude=52.041, altitude=999.9, name='YPENBURG'),\n",
       " 201: Station(number=201, longitude=2.936, latitude=54.327, altitude=42.7, name='D15-FA-1'),\n",
       " 202: Station(number=202, longitude=4.362, latitude=52.206, altitude=9999.9, name='MP KATWIJK'),\n",
       " 203: Station(number=203, longitude=3.342, latitude=52.361, altitude=41.8, name='P11-B'),\n",
       " 204: Station(number=204, longitude=3.628, latitude=53.271, altitude=41.8, name='K14-FA-1C'),\n",
       " 205: Station(number=205, longitude=3.81, latitude=55.401, altitude=48.4, name='A12-CPP'),\n",
       " 206: Station(number=206, longitude=4.012, latitude=54.118, altitude=43.4, name='F16-A'),\n",
       " 207: Station(number=207, longitude=4.961, latitude=53.616, altitude=44.0, name='L9-FF-1'),\n",
       " 208: Station(number=208, longitude=5.942, latitude=53.493, altitude=40.5, name='AWG-1'),\n",
       " 209: Station(number=209, longitude=4.518, latitude=52.465, altitude=0.0, name='IJMOND'),\n",
       " 210: Station(number=210, longitude=4.43, latitude=52.171, altitude=-0.2, name='VALKENBURG'),\n",
       " 211: Station(number=211, longitude=2.945, latitude=53.825, altitude=45.7, name='J6-A'),\n",
       " 212: Station(number=212, longitude=4.151, latitude=52.919, altitude=50.9, name='HOORN-A'),\n",
       " 214: Station(number=214, longitude=6.042, latitude=54.038, altitude=42.5, name='Gemini'),\n",
       " 215: Station(number=215, longitude=4.437, latitude=52.141, altitude=-1.1, name='VOORSCHOTEN'),\n",
       " 225: Station(number=225, longitude=4.555, latitude=52.463, altitude=4.4, name='IJMUIDEN'),\n",
       " 227: Station(number=227, longitude=4.655, latitude=52.774, altitude=0.5, name='PETTEN'),\n",
       " 229: Station(number=229, longitude=4.72, latitude=52.996, altitude=10.0, name='TEXELHORS MM'),\n",
       " 230: Station(number=230, longitude=4.759, latitude=52.967, altitude=999.9, name='DEN HELDER'),\n",
       " 235: Station(number=235, longitude=4.781, latitude=52.928, altitude=1.2, name='DE KOOY'),\n",
       " 239: Station(number=239, longitude=4.696, latitude=54.855, altitude=50.6, name='F3-FB-1'),\n",
       " 240: Station(number=240, longitude=4.79, latitude=52.318, altitude=-3.3, name='SCHIPHOL'),\n",
       " 242: Station(number=242, longitude=4.921, latitude=53.241, altitude=10.8, name='VLIELAND'),\n",
       " 244: Station(number=244, longitude=5.044, latitude=52.65, altitude=999.9, name='HOORN (NH)'),\n",
       " 247: Station(number=247, longitude=4.555, latitude=52.422, altitude=18.0, name='BLOEMENDAAL'),\n",
       " 248: Station(number=248, longitude=5.174, latitude=52.634, altitude=0.8, name='WIJDENES'),\n",
       " 249: Station(number=249, longitude=4.979, latitude=52.644, altitude=-2.4, name='BERKHOUT'),\n",
       " 250: Station(number=250, longitude=5.147, latitude=53.36, altitude=31.4, name='TERSCHELLING'),\n",
       " 251: Station(number=251, longitude=5.346, latitude=53.392, altitude=0.7, name='HOORN (TERSCHELLING)'),\n",
       " 252: Station(number=252, longitude=3.22, latitude=53.219, altitude=37.7, name='K13'),\n",
       " 253: Station(number=253, longitude=2.067, latitude=56.4, altitude=999.9, name='AUK-ALFA'),\n",
       " 254: Station(number=254, longitude=4.296, latitude=52.274, altitude=999.9, name='MEETPOST NOORDWIJK'),\n",
       " 255: Station(number=255, longitude=1.16, latitude=61.234, altitude=999.9, name='NORTH CORMORANT'),\n",
       " 257: Station(number=257, longitude=4.603, latitude=52.506, altitude=8.5, name='WIJK AAN ZEE'),\n",
       " 258: Station(number=258, longitude=5.401, latitude=52.649, altitude=7.3, name='HOUTRIBDIJK'),\n",
       " 260: Station(number=260, longitude=5.18, latitude=52.1, altitude=1.9, name='DE BILT'),\n",
       " 263: Station(number=263, longitude=5.177, latitude=52.101, altitude=2.0, name='DE BILT (TEST)'),\n",
       " 265: Station(number=265, longitude=5.274, latitude=52.13, altitude=13.9, name='SOESTERBERG'),\n",
       " 266: Station(number=266, longitude=5.338, latitude=53.07, altitude=3.0, name='KORNWERDERZAND'),\n",
       " 267: Station(number=267, longitude=5.384, latitude=52.898, altitude=-1.3, name='STAVOREN'),\n",
       " 268: Station(number=268, longitude=5.436, latitude=52.531, altitude=999.9, name='HOUTRIB'),\n",
       " 269: Station(number=269, longitude=5.52, latitude=52.458, altitude=-3.7, name='LELYSTAD'),\n",
       " 270: Station(number=270, longitude=5.752, latitude=53.224, altitude=1.2, name='LEEUWARDEN'),\n",
       " 271: Station(number=271, longitude=5.356, latitude=52.888, altitude=2.6, name='STAVOREN'),\n",
       " 272: Station(number=272, longitude=5.85, latitude=52.616, altitude=3.6, name='RAMSPOL'),\n",
       " 273: Station(number=273, longitude=5.888, latitude=52.703, altitude=-3.3, name='MARKNESSE'),\n",
       " 275: Station(number=275, longitude=5.873, latitude=52.056, altitude=48.2, name='DEELEN'),\n",
       " 277: Station(number=277, longitude=6.2, latitude=53.413, altitude=2.9, name='LAUWERSOOG'),\n",
       " 278: Station(number=278, longitude=6.259, latitude=52.435, altitude=3.6, name='HEINO'),\n",
       " 279: Station(number=279, longitude=6.574, latitude=52.75, altitude=15.8, name='HOOGEVEEN'),\n",
       " 280: Station(number=280, longitude=6.585, latitude=53.125, altitude=5.2, name='EELDE'),\n",
       " 283: Station(number=283, longitude=6.657, latitude=52.069, altitude=29.1, name='HUPSEL'),\n",
       " 285: Station(number=285, longitude=6.399, latitude=53.575, altitude=0.0, name='HUIBERTGAT'),\n",
       " 286: Station(number=286, longitude=7.15, latitude=53.196, altitude=-0.2, name='NIEUW BEERTA'),\n",
       " 290: Station(number=290, longitude=6.891, latitude=52.274, altitude=34.8, name='TWENTHE'),\n",
       " 300: Station(number=300, longitude=2.567, latitude=51.65, altitude=999.9, name='LICHTSCHIP NOORDHINDER'),\n",
       " 308: Station(number=308, longitude=3.379, latitude=51.381, altitude=0.0, name='CADZAND'),\n",
       " 310: Station(number=310, longitude=3.596, latitude=51.442, altitude=8.0, name='VLISSINGEN'),\n",
       " 311: Station(number=311, longitude=3.672, latitude=51.379, altitude=0.0, name='HOOFDPLAAT'),\n",
       " 312: Station(number=312, longitude=3.622, latitude=51.768, altitude=0.0, name='OOSTERSCHELDE'),\n",
       " 313: Station(number=313, longitude=3.242, latitude=51.505, altitude=0.0, name='VLAKTE V.D. RAAN'),\n",
       " 315: Station(number=315, longitude=3.998, latitude=51.447, altitude=0.0, name='HANSWEERT'),\n",
       " 316: Station(number=316, longitude=3.694, latitude=51.657, altitude=0.0, name='SCHAAR'),\n",
       " 319: Station(number=319, longitude=3.861, latitude=51.226, altitude=1.7, name='WESTDORPE'),\n",
       " 320: Station(number=320, longitude=3.67, latitude=51.927, altitude=22.0, name='LICHTEILAND GOEREE'),\n",
       " 321: Station(number=321, longitude=3.275, latitude=51.999, altitude=19.0, name='EUROPLATFORM'),\n",
       " 323: Station(number=323, longitude=3.884, latitude=51.527, altitude=1.4, name='WILHELMINADORP'),\n",
       " 324: Station(number=324, longitude=4.006, latitude=51.596, altitude=0.0, name='STAVENISSE'),\n",
       " 325: Station(number=325, longitude=3.931, latitude=51.654, altitude=-4.0, name='ZIERIKZEE'),\n",
       " 328: Station(number=328, longitude=3.821, latitude=51.668, altitude=999.9, name='ROGGENPLAAT'),\n",
       " 330: Station(number=330, longitude=4.122, latitude=51.992, altitude=11.9, name='HOEK VAN HOLLAND'),\n",
       " 331: Station(number=331, longitude=4.193, latitude=51.48, altitude=0.0, name='THOLEN'),\n",
       " 340: Station(number=340, longitude=4.342, latitude=51.449, altitude=19.2, name='WOENSDRECHT'),\n",
       " 343: Station(number=343, longitude=4.313, latitude=51.893, altitude=3.5, name=\"R'DAM-GEULHAVEN\"),\n",
       " 344: Station(number=344, longitude=4.447, latitude=51.962, altitude=-4.3, name='ROTTERDAM'),\n",
       " 348: Station(number=348, longitude=4.926, latitude=51.97, altitude=-0.7, name='CABAUW'),\n",
       " 350: Station(number=350, longitude=4.936, latitude=51.566, altitude=14.9, name='GILZE-RIJEN'),\n",
       " 356: Station(number=356, longitude=5.146, latitude=51.859, altitude=0.7, name='HERWIJNEN'),\n",
       " 370: Station(number=370, longitude=5.377, latitude=51.451, altitude=22.6, name='EINDHOVEN'),\n",
       " 375: Station(number=375, longitude=5.707, latitude=51.659, altitude=22.0, name='VOLKEL'),\n",
       " 377: Station(number=377, longitude=5.763, latitude=51.198, altitude=30.0, name='ELL'),\n",
       " 379: Station(number=379, longitude=5.7, latitude=50.794, altitude=42.0, name='OOST-MAARLAND'),\n",
       " 380: Station(number=380, longitude=5.762, latitude=50.906, altitude=114.3, name='MAASTRICHT'),\n",
       " 385: Station(number=385, longitude=5.933, latitude=51.55, altitude=9999.9, name='DE PEEL'),\n",
       " 391: Station(number=391, longitude=6.197, latitude=51.498, altitude=19.5, name='ARCEN'),\n",
       " 550: Station(number=550, longitude=3.22, latitude=53.218, altitude=999.9, name='K13'),\n",
       " 551: Station(number=551, longitude=2.066, latitude=56.4, altitude=999.9, name='AUK'),\n",
       " 552: Station(number=552, longitude=3.213, latitude=56.547, altitude=999.9, name='EKOFISK'),\n",
       " 553: Station(number=553, longitude=3.276, latitude=51.999, altitude=999.9, name='EUROPLATFORM'),\n",
       " 554: Station(number=554, longitude=3.592, latitude=51.681, altitude=999.9, name='MEETPOST NOORDWIJK'),\n",
       " 603: Station(number=603, longitude=6.189, latitude=52.311, altitude=999.9, name='DIEPENVEEN'),\n",
       " 604: Station(number=604, longitude=6.262, latitude=52.435, altitude=1.4, name='HERWIJNEN'),\n",
       " 605: Station(number=605, longitude=6.196, latitude=53.409, altitude=3.0, name='LAUWERSOOG'),\n",
       " 609: Station(number=609, longitude=4.318, latitude=51.891, altitude=999.9, name=\"R'DAM-GEULHAVEN\"),\n",
       " 614: Station(number=614, longitude=6.92, latitude=53.337, altitude=999.9, name='EEMSHAVEN'),\n",
       " 615: Station(number=615, longitude=4.296, latitude=52.274, altitude=12.0, name='HOOGEVEEN'),\n",
       " 616: Station(number=616, longitude=4.907, latitude=52.367, altitude=999.9, name='AMSTERDAM (COENHAVEN)'),\n",
       " 617: Station(number=617, longitude=6.196, latitude=51.498, altitude=19.0, name='ARCEN'),\n",
       " 995: Station(number=995, longitude=3.596, latitude=51.442, altitude=8.0, name='VLISSINGEN (TEST)'),\n",
       " 998: Station(number=998, longitude=5.177, latitude=52.101, altitude=2.0, name='DE BILT (TEST)'),\n",
       " 999: Station(number=999, longitude=6.575, latitude=52.75, altitude=15.6, name='HOOGEVEEN TEST')}"
      ]
     },
     "execution_count": 4,
     "metadata": {},
     "output_type": "execute_result"
    }
   ],
   "source": [
    "knmi.stations"
   ]
  },
  {
   "cell_type": "code",
   "execution_count": null,
   "metadata": {
    "collapsed": true
   },
   "outputs": [],
   "source": []
  }
 ],
 "metadata": {
  "kernelspec": {
   "display_name": "Python 3",
   "language": "python",
   "name": "python3"
  },
  "language_info": {
   "codemirror_mode": {
    "name": "ipython",
    "version": 3
   },
   "file_extension": ".py",
   "mimetype": "text/x-python",
   "name": "python",
   "nbconvert_exporter": "python",
   "pygments_lexer": "ipython3",
   "version": "3.5.0"
  }
 },
 "nbformat": 4,
 "nbformat_minor": 0
}
